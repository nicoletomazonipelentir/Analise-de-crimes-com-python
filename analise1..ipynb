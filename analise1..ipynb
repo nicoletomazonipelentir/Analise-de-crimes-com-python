{
 "cells": [
  {
   "cell_type": "markdown",
   "metadata": {},
   "source": [
    "Esse projeto tem como objetivo aplicar meus aprendizados de análise de dados com Python em um projeto de dados abertos referentes à segurança pública. \n",
    "\n",
    "Esse projeto busca possibilizar a visualização e entendimentos sobre as informações disponibilizadas. Eu criei algumas perguntas com base na base de dados onde me permitissem mostrar meus conhecimentos.\n",
    "\n",
    "Será trabalhado com duas tabelas, a Ocorrências que possui as colunas UF, tipo de crime, ano, mês, ocorrência. A outra tabela é de vítimas, que possui os campos UF, tipo de crime, ano, mês, sexo da vitima e vítimas."
   ]
  },
  {
   "cell_type": "code",
   "execution_count": null,
   "metadata": {},
   "outputs": [],
   "source": [
    "#Primeiro importnado bibliotecas que serão utilizadas\n",
    "import numpy as np\n",
    "import pandas as pd\n",
    "\n",
    "from matplotlib import pyplot as plt\n",
    "import statistics as sts\n",
    "import seaborn as sns"
   ]
  },
  {
   "cell_type": "code",
   "execution_count": null,
   "metadata": {},
   "outputs": [],
   "source": [
    "\n",
    "#trazendo a base de dados para o python\n",
    "caminho='indicadoressegurancapublicauf.xlsx'\n",
    "df=pd.ExcelFile(caminho)\n",
    "df.sheet_names"
   ]
  },
  {
   "cell_type": "code",
   "execution_count": null,
   "metadata": {},
   "outputs": [],
   "source": [
    "#trazendo a tabela ocorrências\n",
    "ocorrencia = pd.read_excel(caminho, sheet_name=df.sheet_names[0])\n",
    "ocorrencia.head()"
   ]
  },
  {
   "cell_type": "code",
   "execution_count": null,
   "metadata": {},
   "outputs": [],
   "source": [
    "#trazendo a tabela vítimas\n",
    "vitimas = pd.read_excel(caminho, sheet_name=df.sheet_names[1])\n",
    "vitimas.head()"
   ]
  },
  {
   "cell_type": "markdown",
   "metadata": {},
   "source": [
    "Na tabela vítimas existe no campo de sexo uma informação chamada \"sexo NI\", entrei em contato com o MJSP para entender que tipo de informação era essa, como até o momento não obtive resposta, apenas removerei as linhas que possuem essa informação para não afetar os resultados."
   ]
  },
  {
   "cell_type": "code",
   "execution_count": null,
   "metadata": {},
   "outputs": [],
   "source": [
    "vitimas = vitimas[vitimas['Sexo da Vítima'] != 'Sexo NI']\n",
    "vitimas.head(20)"
   ]
  },
  {
   "cell_type": "markdown",
   "metadata": {},
   "source": [
    "Agora fiz a verificação se existia mais alguma informação nula ou vazia em algum campos da tabela, como resultados vê-se que não"
   ]
  },
  {
   "cell_type": "code",
   "execution_count": null,
   "metadata": {},
   "outputs": [],
   "source": [
    "vitimas.isnull().any()\n",
    "ocorrencia.isnull().any()"
   ]
  },
  {
   "cell_type": "markdown",
   "metadata": {},
   "source": [
    "Quando comecei a analisar as informações para excel, fiz algumas perguntas e percebi que podia fazer algumas análises para responder com a estatística básica.\n",
    "\n",
    "1. Top 3 estados por crime no ano de 2022\n",
    "2. Top 3 crimes por estado no ano de 2018\n",
    "3. Quais violências atingem mais as mulheres?\n",
    "4. Quais violências atingem mais os homens?\n",
    "5. Qual mês mais violento por crime em 2017 em Santa Catarina?\n",
    "6. Quais os crimes com maior frequência em cada ano no mês de dezembro?\n",
    "7. Quais os crimes com maior frequência em cada ano no estado do Maranhão?\n",
    "\n",
    "Como tenho duas tabelas com informações complementares e distintas, informarei qual tabela usarei para responder cada pergunta, para não misturar informações e acabar \"sujando\" a análise."
   ]
  },
  {
   "cell_type": "markdown",
   "metadata": {},
   "source": [
    "# Top 3 estados por crime no ano de 2022\n",
    "\n",
    "\n",
    "Utilizarei a tabela ocorrência para análise das informações.\n",
    "Comecei a filtrar o ano em que eu queria analisar.\n",
    "Depois, agrupei pelo tipo de crime e estado, somando as ocorrências.\n",
    "Por fim, usando um short, ordeno em forma decrescente a quantidade de ocorrências por estado, para verificar quais estados possuem maior frequência em cada crime.\n",
    "\n",
    "\n",
    "\n"
   ]
  },
  {
   "cell_type": "code",
   "execution_count": null,
   "metadata": {},
   "outputs": [],
   "source": [
    "ocorrencia2022=ocorrencia[ocorrencia['Ano']==2022]\n",
    "agrupado=ocorrencia2022.groupby(['Tipo Crime','UF']).agg({'Ocorrências': 'sum'}).reset_index()\n",
    "top_3_estados_por_crime = agrupado.sort_values(['Tipo Crime', 'Ocorrências'], ascending=[True, False]).groupby('Tipo Crime').head(3)\n",
    "\n",
    "print(top_3_estados_por_crime)"
   ]
  },
  {
   "cell_type": "markdown",
   "metadata": {},
   "source": [
    "Para visualizar gráficamente dessa solução, dividi em duas opções, um gráfico geral, onde não achei que as informação são tem objetivas e a demonstração por categortia de crime, que atinge um objetivo melhor na visualiação do top 3."
   ]
  },
  {
   "cell_type": "code",
   "execution_count": null,
   "metadata": {},
   "outputs": [],
   "source": [
    "plt.figure(figsize=(12, 8))#define tamanho do grafico\n",
    "for crime in top_3_estados_por_crime['Tipo Crime'].unique():\n",
    "    subset = top_3_estados_por_crime[top_3_estados_por_crime['Tipo Crime'] == crime]#tipo de crime é o crime\n",
    "    bars=plt.bar(subset['UF'] + ' - ' + crime, subset['Ocorrências'], label=crime)#combina o nome do estado com tipo de crime para ser feito a verificacao\n",
    "    \n",
    "    for bar, value in zip(bars, subset['Ocorrências']):#aqui adiciona os rótulos nas colunas\n",
    "        plt.text(bar.get_x() + bar.get_width() / 2, bar.get_height() + 5, str(value), ha='center', va='bottom', fontsize=10)\n",
    "\n",
    "plt.xlabel('UF - Tipo de Crime')\n",
    "plt.ylabel('Ocorrências')\n",
    "plt.title('Top 3 Estados por Crime em 2022')\n",
    "plt.legend(title='Tipo de Crime')\n",
    "plt.xticks(rotation=90)\n",
    "plt.tight_layout()\n",
    "plt.show()"
   ]
  },
  {
   "cell_type": "code",
   "execution_count": null,
   "metadata": {},
   "outputs": [],
   "source": [
    "for crime in top_3_estados_por_crime['Tipo Crime'].unique():\n",
    "    subset = top_3_estados_por_crime[top_3_estados_por_crime['Tipo Crime'] == crime]\n",
    "    \n",
    "    #plt.figure(figsize=(5, 8))\n",
    "    bars = plt.bar(subset['UF'], subset['Ocorrências'], label=crime)\n",
    "    \n",
    "    # Adicionar os valores das Ocorrênciass nas barras\n",
    "    for bar, value in zip(bars, subset['Ocorrências']):\n",
    "        plt.text(bar.get_x() + bar.get_width() / 2, bar.get_height() + 5, str(value), ha='center', va='bottom', fontsize=10)\n",
    "    \n",
    "    plt.xlabel('UF')\n",
    "    plt.ylabel('Ocorrências')\n",
    "    plt.title(f'Top 3 Estados por {crime} em 2022')\n",
    "    plt.xticks(rotation=0)\n",
    "    plt.tight_layout()\n",
    "    plt.show()"
   ]
  },
  {
   "cell_type": "markdown",
   "metadata": {},
   "source": [
    "Porém, se eu quisesse comprar todos os top 1 estados por crime, o gráfico geral tem utilidade, no entanto, como nosso foco é um top 3 crimes por estado em 2022, os gráficos individuais nos ajudam melhor."
   ]
  },
  {
   "cell_type": "markdown",
   "metadata": {},
   "source": [
    "# Top 3 crimes por estado no ano de 2018\n",
    "\n",
    "Agora, verificarei de uma outra informação, verei quais os crimes mais praticados em cada estado no ano de 2018.\n",
    "\n",
    "Seguindo particamente a mesma estrutura, no entanto, só desenvolvi os gráficos individuais para cada estado.\n"
   ]
  },
  {
   "cell_type": "code",
   "execution_count": null,
   "metadata": {},
   "outputs": [],
   "source": [
    "ocorrencia2018=ocorrencia[ocorrencia['Ano']==2018]\n",
    "agrupado=ocorrencia2022.groupby(['UF','Tipo Crime']).agg({'Ocorrências': 'sum'}).reset_index()\n",
    "top_3_crime_por_estado = agrupado.sort_values(['UF', 'Ocorrências'], ascending=[True, False]).groupby('UF').head(3)\n",
    "\n",
    "print(top_3_crime_por_estado)"
   ]
  },
  {
   "cell_type": "code",
   "execution_count": null,
   "metadata": {},
   "outputs": [],
   "source": [
    "for estado in top_3_crime_por_estado['UF'].unique():\n",
    "    subset = top_3_crime_por_estado[top_3_crime_por_estado['UF'] == estado]\n",
    "    \n",
    "    #plt.figure(figsize=(5, 8))\n",
    "    bars = plt.bar(subset['Tipo Crime'], subset['Ocorrências'], label=estado)\n",
    "    \n",
    "    # Adicionar os valores das Ocorrênciass nas barras\n",
    "    for bar, value in zip(bars, subset['Ocorrências']):\n",
    "        plt.text(bar.get_x() + bar.get_width() / 2, bar.get_height() + 5, str(value), ha='center', va='bottom', fontsize=10)\n",
    "    \n",
    "    plt.xlabel('Tipo Crime')\n",
    "    plt.ylabel('Ocorrências')\n",
    "    plt.title(f'Top 3 crimes em {estado} em 2022')\n",
    "    plt.xticks(rotation=0)\n",
    "    plt.tight_layout()\n",
    "    plt.show()"
   ]
  },
  {
   "cell_type": "markdown",
   "metadata": {},
   "source": [
    "# Quais violências atingem mais as mulheres?\n",
    "\n",
    "Para essa analise, será necessário usar a tabela vitímas. Para demonstrar as quantidades usarei informações como, soma de todas as ocorrencias regitradas na base de dados, a média dessas informações, a mediana, porém, para disonibilizar graficamente, utilizarei a soma total, para que nenhuma manipulação ocorra no valor total.\n"
   ]
  },
  {
   "cell_type": "code",
   "execution_count": null,
   "metadata": {},
   "outputs": [],
   "source": [
    "mulheres=vitimas[vitimas['Sexo da Vítima']=='Feminino']\n",
    "soma=mulheres.Vítimas.sum()"
   ]
  },
  {
   "cell_type": "markdown",
   "metadata": {},
   "source": [
    "A soma total de crimes cometidos contra mulheres é 31631, ou seja, minha análise não pode obter valores acima desse total."
   ]
  },
  {
   "cell_type": "code",
   "execution_count": null,
   "metadata": {},
   "outputs": [],
   "source": [
    "agrupado=mulheres.groupby('Tipo Crime').agg({'Vítimas': 'sum'}).reset_index()\n",
    "mulheres_analise = agrupado.sort_values(['Tipo Crime','Vítimas'], ascending=[True, False]).groupby('Tipo Crime').head()\n",
    "print(mulheres_analise)"
   ]
  },
  {
   "cell_type": "markdown",
   "metadata": {},
   "source": [
    "Nessa base de dados, as informações registradas para mulheres são apenas três crimes, Homicídio doloso, Lesão corporal seguida de morte e Roubo seguido de morte (latrocínio), ou seja, apenas com essa analise podemos ver um alto nível de feminicídio, visto que todos crimes terminam em morte para as mulheres.\n",
    "\n",
    "Agora expressado graficamente."
   ]
  },
  {
   "cell_type": "code",
   "execution_count": null,
   "metadata": {},
   "outputs": [],
   "source": [
    "plt.figure(figsize=(10, 8))\n",
    "barras=plt.bar(mulheres_analise['Tipo Crime'], mulheres_analise['Vítimas'])\n",
    "for barra in barras:\n",
    "    altura = barra.get_height()\n",
    "    plt.text(barra.get_x() + barra.get_width() / 2.0, altura, f'{altura}', ha='center', va='bottom')\n",
    "\n",
    "plt.xlabel('Tipo Crime')\n",
    "plt.ylabel('Vítimas')\n",
    "plt.title('Crimes que mais afetaram as mulheres')\n",
    "plt.xticks(rotation=0)\n",
    "plt.show()"
   ]
  },
  {
   "cell_type": "markdown",
   "metadata": {},
   "source": [
    "# Quais violências atingem mais os homens?"
   ]
  },
  {
   "cell_type": "code",
   "execution_count": null,
   "metadata": {},
   "outputs": [],
   "source": [
    "homens=vitimas[vitimas['Sexo da Vítima']=='Masculino']\n",
    "soma=homens.Vítimas.sum()\n",
    "print(soma)"
   ]
  },
  {
   "cell_type": "markdown",
   "metadata": {},
   "source": []
  },
  {
   "cell_type": "code",
   "execution_count": null,
   "metadata": {},
   "outputs": [],
   "source": [
    "agrupado=homens.groupby('Tipo Crime').agg({'Vítimas': 'sum'}).reset_index()\n",
    "homens_analise = agrupado.sort_values(['Tipo Crime','Vítimas'], ascending=[True, False]).groupby('Tipo Crime').head()\n",
    "print(homens_analise)"
   ]
  },
  {
   "cell_type": "markdown",
   "metadata": {},
   "source": [
    "to espanatada que so cadastraram esse tipo de violencia na tebala vitimas"
   ]
  },
  {
   "cell_type": "code",
   "execution_count": null,
   "metadata": {},
   "outputs": [],
   "source": [
    "plt.figure(figsize=(10, 8))\n",
    "barras=plt.bar(mulheres_analise['Tipo Crime'], mulheres_analise['Vítimas'])\n",
    "for barra in barras:\n",
    "    altura = barra.get_height()\n",
    "    plt.text(barra.get_x() + barra.get_width() / 2.0, altura, f'{altura}', ha='center', va='bottom')\n",
    "\n",
    "plt.xlabel('Tipo Crime')\n",
    "plt.ylabel('Vítimas')\n",
    "plt.title('Crimes que mais afetaram as mulheres')\n",
    "plt.xticks(rotation=0)\n",
    "plt.show()"
   ]
  },
  {
   "cell_type": "markdown",
   "metadata": {},
   "source": [
    "# Qual mês mais violento por crime em 2017 em Santa Catarina?\n",
    "\n",
    "\n",
    "6. Quais os crimes com maior frequência em cada ano no mês de dezembro?\n",
    "7. Quais os crimes com maior frequência em cada ano no estado do Maranhão?"
   ]
  },
  {
   "cell_type": "code",
   "execution_count": 112,
   "metadata": {},
   "outputs": [
    {
     "name": "stdout",
     "output_type": "stream",
     "text": [
      "          Tipo Crime        Mês  Ocorrências\n",
      "3            Estupro  fevereiro          877\n",
      "2            Estupro   dezembro          872\n",
      "5            Estupro      julho          849\n",
      "10           Estupro    outubro          836\n",
      "4            Estupro    janeiro          796\n",
      "9            Estupro   novembro          796\n",
      "8            Estupro      março          791\n",
      "1            Estupro     agosto          778\n",
      "0            Estupro      abril          771\n",
      "11           Estupro   setembro          766\n",
      "7            Estupro       maio          710\n",
      "6            Estupro      junho          639\n",
      "16  Furto de veículo    janeiro         7636\n",
      "20  Furto de veículo      março         7246\n",
      "15  Furto de veículo  fevereiro         7081\n",
      "12  Furto de veículo      abril         6997\n",
      "17  Furto de veículo      julho         6889\n",
      "19  Furto de veículo       maio         6765\n",
      "14  Furto de veículo   dezembro         6759\n",
      "13  Furto de veículo     agosto         6601\n",
      "18  Furto de veículo      junho         6535\n",
      "22  Furto de veículo    outubro         6487\n",
      "23  Furto de veículo   setembro         6222\n",
      "21  Furto de veículo   novembro         6152\n",
      "28  Homicídio doloso    janeiro          608\n",
      "26  Homicídio doloso   dezembro          564\n",
      "32  Homicídio doloso      março          533\n",
      "27  Homicídio doloso  fevereiro          509\n",
      "33  Homicídio doloso   novembro          509\n",
      "24  Homicídio doloso      abril          502\n",
      "31  Homicídio doloso       maio          469\n",
      "34  Homicídio doloso    outubro          457\n",
      "35  Homicídio doloso   setembro          450\n",
      "25  Homicídio doloso     agosto          447\n",
      "29  Homicídio doloso      julho          427\n",
      "30  Homicídio doloso      junho          403\n"
     ]
    }
   ],
   "source": [
    "crime_sc=ocorrencia[ocorrencia['UF']=='Santa Catarina']\n",
    "agrupado=crime_sc.groupby(['Tipo Crime','Mês']).agg({'Ocorrências': 'sum'}).reset_index()\n",
    "mes_violento_sc = agrupado.sort_values(['Tipo Crime', 'Ocorrências'], ascending=[True, False]).groupby('Mês').head(3)\n",
    "\n",
    "print(mes_violento_sc)"
   ]
  },
  {
   "cell_type": "markdown",
   "metadata": {},
   "source": []
  },
  {
   "cell_type": "code",
   "execution_count": null,
   "metadata": {},
   "outputs": [],
   "source": []
  }
 ],
 "metadata": {
  "kernelspec": {
   "display_name": "Python 3",
   "language": "python",
   "name": "python3"
  },
  "language_info": {
   "codemirror_mode": {
    "name": "ipython",
    "version": 3
   },
   "file_extension": ".py",
   "mimetype": "text/x-python",
   "name": "python",
   "nbconvert_exporter": "python",
   "pygments_lexer": "ipython3",
   "version": "3.12.2"
  }
 },
 "nbformat": 4,
 "nbformat_minor": 2
}
